{
  "cells": [
    {
      "cell_type": "markdown",
      "metadata": {
        "id": "BZu8cyUbdN5w"
      },
      "source": [
        "# Predictive Modelling using Regression"
      ]
    },
    {
      "cell_type": "markdown",
      "metadata": {
        "id": "ilGZmegvdN52"
      },
      "source": [
        "### Question 1.\n",
        "**What processing was required on this pre-processed dataset (D3.csv) to further improve the data quality for regression modelling? What distribution split between training and test datasets have you used?**\n",
        "\n",
        "Although the dataset was pre-processed, there was still additional processing taken to improve the quality and usefulness of the data when used for regression modelling, such as standardisation. Given regression models are quite sensitive to input variables of different scales, the standard scale function of scikit-learn was used to rescale all features to have a mean of 0 and a standard deviation of 1. This allows for the effective comparison of features of various scales and allows for the use of gradient descent- and ascent-based optimisations.\n",
        "\n",
        "Additionally, some models required conversions of string fields into integers using the Pandas Get Dummies function.\n",
        "In order to avoid issues with overfitting, a train/test data split of 70/30 has been used. This was established using a trial-and-error methodology.\n"
      ]
    },
    {
      "cell_type": "markdown",
      "metadata": {
        "id": "B51O9F8tdN53"
      },
      "source": [
        "### Question 2 (1/3).\n",
        "*Build a regression model using the default regression method with  all inputs.*"
      ]
    },
    {
      "cell_type": "code",
      "execution_count": null,
      "metadata": {
        "id": "50wlJyY5dN54"
      },
      "outputs": [],
      "source": [
        "import numpy as np\n",
        "import pandas as pd\n",
        "from sklearn.linear_model import LogisticRegression\n",
        "from sklearn.preprocessing import StandardScaler\n",
        "from sklearn.model_selection import train_test_split\n",
        "from sklearn.metrics import classification_report, accuracy_score\n",
        "from sklearn.model_selection import GridSearchCV\n",
        "import warnings\n",
        "warnings.filterwarnings('ignore')"
      ]
    },
    {
      "cell_type": "code",
      "execution_count": null,
      "metadata": {
        "id": "Kp4Ci1lQdN56"
      },
      "outputs": [],
      "source": [
        "def data_prep():\n",
        "    df = pd.read_csv('d3.csv')\n",
        "\n",
        "    # one-hot encoding\n",
        "    df = pd.get_dummies(df)\n",
        "\n",
        "    #Setting the target variable to RainTomorrow.\n",
        "    y = df['RainTomorrow']\n",
        "    X = df.drop(['RainTomorrow'], axis=1)\n",
        "\n",
        "    # setting random state\n",
        "    rs = 10\n",
        "\n",
        "    X_mat = X.to_numpy()\n",
        "    X_train, X_test, y_train, y_test = train_test_split(X_mat, y, test_size=0.3, stratify=y, random_state=rs)\n",
        "\n",
        "    return df,X,y,X_train, X_test, y_train, y_test"
      ]
    },
    {
      "cell_type": "code",
      "execution_count": null,
      "metadata": {
        "id": "Lap9_JnadN56"
      },
      "outputs": [],
      "source": [
        "rs = 10\n",
        "df,X,y,X_train, X_test, y_train, y_test = data_prep()"
      ]
    },
    {
      "cell_type": "code",
      "execution_count": null,
      "metadata": {
        "id": "fxXd8sVfdN56",
        "scrolled": true
      },
      "outputs": [],
      "source": [
        "#Standardising the data\n",
        "scaler = StandardScaler()\n",
        "X_train = scaler.fit_transform(X_train, y_train)\n",
        "\n",
        "X_test = scaler.transform(X_test)"
      ]
    },
    {
      "cell_type": "code",
      "execution_count": null,
      "metadata": {
        "id": "FzeRaPRudN58"
      },
      "outputs": [],
      "source": [
        "model1 = LogisticRegression(random_state=rs, solver='lbfgs')"
      ]
    },
    {
      "cell_type": "code",
      "execution_count": null,
      "metadata": {
        "id": "ZVjBd_pudN59",
        "outputId": "44c5cb98-8693-40d7-e597-cb4ead651155"
      },
      "outputs": [
        {
          "data": {
            "text/plain": [
              "LogisticRegression(C=1.0, class_weight=None, dual=False, fit_intercept=True,\n",
              "          intercept_scaling=1, max_iter=100, multi_class='warn',\n",
              "          n_jobs=None, penalty='l2', random_state=10, solver='lbfgs',\n",
              "          tol=0.0001, verbose=0, warm_start=False)"
            ]
          },
          "execution_count": 92,
          "metadata": {},
          "output_type": "execute_result"
        }
      ],
      "source": [
        "#Default settings\n",
        "model1.fit(X_train, y_train)"
      ]
    },
    {
      "cell_type": "code",
      "execution_count": null,
      "metadata": {
        "id": "FjVfyrYHdN59",
        "outputId": "4bd1b5f4-afc8-4f72-cdd6-9fdc1519c36b"
      },
      "outputs": [
        {
          "name": "stdout",
          "output_type": "stream",
          "text": [
            "Train accuracy: 0.8476088113868995\n",
            "Test accuracy: 0.8469038578727792\n",
            "              precision    recall  f1-score   support\n",
            "\n",
            "           0       0.87      0.95      0.91     33101\n",
            "           1       0.73      0.50      0.59      9565\n",
            "\n",
            "   micro avg       0.85      0.85      0.85     42666\n",
            "   macro avg       0.80      0.72      0.75     42666\n",
            "weighted avg       0.84      0.85      0.84     42666\n",
            "\n"
          ]
        }
      ],
      "source": [
        "#Train and Test accuracy\n",
        "print(\"Train accuracy:\", model1.score(X_train, y_train))\n",
        "print(\"Test accuracy:\", model1.score(X_test, y_test))\n",
        "\n",
        "#Classification report on test data\n",
        "y_pred = model1.predict(X_test)\n",
        "print(classification_report(y_test, y_pred))"
      ]
    },
    {
      "cell_type": "code",
      "execution_count": null,
      "metadata": {
        "id": "VZfnCfPEdN5-",
        "outputId": "493c53bb-3d91-4b14-df10-112b3b1c7017"
      },
      "outputs": [
        {
          "name": "stdout",
          "output_type": "stream",
          "text": [
            "Humidity3pm : 1.2169825039129465\n",
            "Pressure3pm : -1.1895364620779512\n",
            "Pressure9am : 0.7934231617082207\n",
            "WindGustSpeed : 0.729442891520805\n",
            "MaxTemp : -0.4721405105051334\n",
            "Sunshine : -0.30998852651333086\n",
            "Cloud3pm : 0.275561511186938\n",
            "Temp3pm : 0.23628749668923762\n",
            "MinTemp : 0.22030030415049776\n",
            "Location_MountGinini : -0.18009242242326745\n",
            "WindSpeed3pm : -0.17857020656186373\n",
            "Rainfall : 0.1756161209055656\n",
            "Location_Wollongong : -0.14086437374948435\n",
            "Humidity9am : 0.1314169478407638\n",
            "Location_Perth : 0.10887978484423678\n",
            "Location_NorahHead : -0.10688801162937711\n",
            "Temp9am : 0.10535183261122015\n",
            "Location_Townsville : -0.09285879603284188\n",
            "Location_Hobart : -0.09228015331681928\n",
            "Location_Adelaide : 0.09188161721663779\n",
            "Location_PerthAirport : 0.08505328128963825\n",
            "WindDir3pm_NW : 0.08375835588505956\n",
            "WindDir3pm_NNW : 0.08104625529492915\n",
            "Location_Brisbane : 0.08068914748930721\n",
            "Location_Archerfield : 0.07776092942961275\n",
            "Location_Witchcliffe : 0.07106983056955593\n",
            "Location_GoldCoast : -0.06925114988846497\n",
            "Location_PearceRAAF : 0.06788647764443352\n",
            "Location_Cobar : 0.06671335706805255\n",
            "Location_Darwin : -0.05962580061004418\n",
            "WindDir9am_NNE : 0.05907437874585807\n",
            "Location_MelbourneAirport : -0.05678262855713238\n",
            "WindDir3pm_NE : -0.05613758339139024\n",
            "WindDir9am_SSE : -0.054933079294113604\n",
            "Location_NorfolkIsland : -0.05480027272445079\n",
            "Location_Williamtown : 0.05237113630622766\n",
            "WindDir9am_SE : -0.05225630670239301\n",
            "WindDir3pm_SW : -0.05189877658123938\n",
            "Location_Katherine : -0.05142873056366937\n",
            "Location_Penrith : 0.050105526344352225\n",
            "Location_Launceston : -0.049928305076140406\n",
            "WindDir9am_S : -0.049855877887237145\n",
            "Month : 0.048422059318432055\n",
            "Location_WaggaWagga : 0.04748732489272078\n",
            "WindDir3pm_N : 0.04544244460606758\n",
            "Location_Ballarat : -0.04322560011593105\n",
            "Location_SalmonGums : 0.04253800987993952\n",
            "WindDir3pm_SSE : -0.04187348224070181\n",
            "Location_Sale : -0.041341497479510644\n",
            "WindDir9am_ESE : -0.03994470031077076\n",
            "Location_Bendigo : 0.03799279443532878\n",
            "Location_Moree : 0.03530014966902288\n",
            "WindGustDir_NNE : -0.03461298170360519\n",
            "WindDir3pm_WSW : -0.03267552547491572\n",
            "WindDir9am_E : -0.0322102358472041\n",
            "WindDir3pm_WNW : 0.03205809454515443\n",
            "WindDir9am_WSW : 0.03148438696706886\n",
            "Year : 0.030947807406586734\n",
            "WindDir3pm_ESE : -0.029638960478900325\n",
            "Location_Woomera : -0.029091765033295226\n",
            "WindGustDir_SW : 0.028702882152105074\n",
            "Location_Nhil : -0.026978063877703545\n",
            "Location_AliceSprings : 0.026713298784504288\n",
            "WindSpeed9am : -0.026251921960275884\n",
            "Location_MountGambier : 0.02607065940066078\n",
            "WindDir9am_NE : 0.02564118867715325\n",
            "WindDir3pm_SSW : -0.02534733385565304\n",
            "Location_Uluru : 0.02469173422897036\n",
            "Location_Watsonia : -0.024682933496040185\n",
            "WindDir9am_N : 0.024400230697847598\n",
            "WindDir9am_ENE : 0.024389161231983342\n",
            "WindGustDir_NE : -0.02422791332904825\n",
            "WindDir9am_W : 0.022395961857866617\n",
            "Location_Tuggeranong : 0.021363725275169415\n",
            "WindDir3pm_E : -0.019994407999962643\n",
            "WindDir9am_WNW : 0.01958778555939499\n",
            "Location_Richmond : 0.01798645104042375\n",
            "WindDir9am_SW : 0.01749345450095476\n",
            "WindDir3pm_SE : 0.017420137205021762\n",
            "Location_Canberra : 0.016907022402053315\n",
            "Location_Mildura : 0.01624030436502569\n",
            "Location_Dartmoor : -0.015767561809394\n",
            "WindDir9am_SSW : -0.014258106455579785\n",
            "WindDir3pm_NNE : 0.013008499747992007\n",
            "Location_Portland : 0.012876754689779592\n",
            "WindGustDir_S : 0.012869694049657777\n",
            "WindDir9am_NNW : 0.011415451999745686\n",
            "Location_BadgerysCreek : 0.010839247709413564\n",
            "Location_Cairns : 0.010346469087881017\n",
            "WindGustDir_WNW : -0.009850203011013433\n",
            "WindGustDir_SE : 0.009195331711790163\n",
            "Location_Nuriootpa : 0.007551761179505596\n",
            "WindGustDir_E : -0.007368784741160772\n",
            "Evaporation : -0.007306951235763845\n",
            "WindGustDir_ESE : 0.007072267272961407\n",
            "WindDir3pm_S : -0.007045421304114258\n",
            "Location_Melbourne : 0.006939270169066223\n",
            "WindDir9am_NW : 0.006600309509721632\n",
            "WindGustDir_SSE : 0.006390335016232626\n",
            "WindGustDir_N : -0.006079352959660362\n",
            "WindGustDir_NW : 0.005151592359497362\n",
            "WindGustDir_SSW : 0.005069437014251466\n",
            "Location_SydneyAirport : -0.005001752792107447\n",
            "Location_Newcastle : 0.004801683984797004\n",
            "Location_Albany : 0.0038738815537896812\n",
            "Location_Sydney : 0.0033069525749794275\n",
            "WindDir3pm_W : -0.0031624479556209124\n",
            "WindGustDir_NNW : 0.003010663371842786\n",
            "WindGustDir_WSW : -0.003006329077752964\n",
            "Location_CoffsHarbour : -0.002857906347013457\n",
            "WindDir3pm_ENE : -0.0016586823739466597\n",
            "Cloud9am : 0.001490648074283756\n",
            "WindGustDir_W : 0.0014196689316959084\n",
            "WindGustDir_ENE : -0.000952141569315511\n",
            "Location_Walpole : -0.0007064091947064676\n"
          ]
        }
      ],
      "source": [
        "#Default regression features\n",
        "coef = model1.coef_[0]\n",
        "feature_names = X.columns\n",
        "\n",
        "\n",
        "indices = np.argsort(np.absolute(coef))\n",
        "indices = np.flip(indices, axis=0)\n",
        "\n",
        "indices = indices[:150]\n",
        "\n",
        "for i in indices:\n",
        "    print(feature_names[i], ':', coef[i])"
      ]
    },
    {
      "cell_type": "markdown",
      "metadata": {
        "id": "2zZRkX90dN5-"
      },
      "source": [
        "### Question 2 (2/3).\n",
        "*Build another regression model tuned with GridSearchCV.*"
      ]
    },
    {
      "cell_type": "code",
      "execution_count": null,
      "metadata": {
        "id": "1eXVfX55dN5-"
      },
      "outputs": [],
      "source": [
        "def data_prep():\n",
        "    df = pd.read_csv('d3.csv')\n",
        "\n",
        "    # one-hot encoding\n",
        "    df = pd.get_dummies(df)\n",
        "\n",
        "    #Setting the target variable to RainTomorrow.\n",
        "    y = df['RainTomorrow']\n",
        "    X = df.drop(['RainTomorrow'], axis=1)\n",
        "\n",
        "    # setting random state\n",
        "    rs = 10\n",
        "\n",
        "    X_mat = X.to_numpy()\n",
        "    X_train, X_test, y_train, y_test = train_test_split(X_mat, y, test_size=0.3, stratify=y, random_state=rs)\n",
        "\n",
        "    return df,X,y,X_train, X_test, y_train, y_test"
      ]
    },
    {
      "cell_type": "code",
      "execution_count": null,
      "metadata": {
        "id": "JrCQpQBbdN5_"
      },
      "outputs": [],
      "source": [
        "rs = 10\n",
        "df,X,y,X_train, X_test, y_train, y_test = data_prep()\n",
        "\n",
        "#Standardisation\n",
        "scaler = StandardScaler()\n",
        "X_train = scaler.fit_transform(X_train, y_train)\n",
        "X_test = scaler.transform(X_test)"
      ]
    },
    {
      "cell_type": "code",
      "execution_count": null,
      "metadata": {
        "id": "r93Si244dN5_",
        "outputId": "e8a3098f-4c9e-46f2-8ca4-35508ebdd656"
      },
      "outputs": [
        {
          "data": {
            "text/plain": [
              "GridSearchCV(cv=10, error_score='raise-deprecating',\n",
              "       estimator=LogisticRegression(C=1.0, class_weight=None, dual=False, fit_intercept=True,\n",
              "          intercept_scaling=1, max_iter=100, multi_class='warn',\n",
              "          n_jobs=None, penalty='l2', random_state=10, solver='warn',\n",
              "          tol=0.0001, verbose=0, warm_start=False),\n",
              "       fit_params=None, iid='warn', n_jobs=-1,\n",
              "       param_grid={'C': [1e-06, 1e-05, 0.0001, 0.001, 0.01, 0.1, 1, 10, 100, 1000]},\n",
              "       pre_dispatch='2*n_jobs', refit=True, return_train_score=True,\n",
              "       scoring=None, verbose=0)"
            ]
          },
          "execution_count": 99,
          "metadata": {},
          "output_type": "execute_result"
        }
      ],
      "source": [
        "#GridsearchCV\n",
        "params = {'C': [pow(10, x) for x in range(-6, 4)]}\n",
        "\n",
        "# use all cores to tune logistic regression with C parameter\n",
        "model2 = GridSearchCV(param_grid=params, estimator=LogisticRegression(random_state=rs),return_train_score=True, cv=10, n_jobs=-1)\n",
        "model2.fit(X_train, y_train)"
      ]
    },
    {
      "cell_type": "code",
      "execution_count": null,
      "metadata": {
        "id": "0NBgQ9zxdN6A",
        "outputId": "4238d5f8-a6a3-4fc9-a966-9571f029d4b7"
      },
      "outputs": [
        {
          "name": "stdout",
          "output_type": "stream",
          "text": [
            "{'mean_fit_time': array([0.98179471, 1.40677714, 2.26608145, 4.00099931, 5.36093853,\n",
            "       5.74696085, 5.76946785, 5.77977557, 5.8460319 , 5.55518227]), 'std_fit_time': array([0.19583139, 0.06961484, 0.05366142, 0.03493735, 0.13611176,\n",
            "       0.0948567 , 0.09526997, 0.06034233, 0.11084038, 0.33821033]), 'mean_score_time': array([0.00831468, 0.00426285, 0.009376  , 0.01093831, 0.00632575,\n",
            "       0.00781307, 0.00685124, 0.00220048, 0.00518758, 0.00625041]), 'std_score_time': array([0.00745002, 0.00457652, 0.01036524, 0.00716081, 0.00510104,\n",
            "       0.00781307, 0.00737237, 0.00271349, 0.00698853, 0.00765515]), 'param_C': masked_array(data=[1e-06, 1e-05, 0.0001, 0.001, 0.01, 0.1, 1, 10, 100,\n",
            "                   1000],\n",
            "             mask=[False, False, False, False, False, False, False, False,\n",
            "                   False, False],\n",
            "       fill_value='?',\n",
            "            dtype=object), 'params': [{'C': 1e-06}, {'C': 1e-05}, {'C': 0.0001}, {'C': 0.001}, {'C': 0.01}, {'C': 0.1}, {'C': 1}, {'C': 10}, {'C': 100}, {'C': 1000}], 'split0_test_score': array([0.77300121, 0.80433909, 0.83738449, 0.84461631, 0.84511852,\n",
            "       0.84552029, 0.84552029, 0.84541985, 0.84541985, 0.84541985]), 'split1_test_score': array([0.77169546, 0.80413821, 0.83748493, 0.84592206, 0.84803134,\n",
            "       0.84813178, 0.84803134, 0.8479309 , 0.8479309 , 0.8479309 ]), 'split2_test_score': array([0.77581358, 0.80644837, 0.83557654, 0.84361189, 0.84552029,\n",
            "       0.84521896, 0.84531941, 0.84541985, 0.84541985, 0.84541985]), 'split3_test_score': array([0.77531137, 0.80524307, 0.83828847, 0.84541985, 0.84612294,\n",
            "       0.84622338, 0.84632382, 0.84642427, 0.84642427, 0.84642427]), 'split4_test_score': array([0.77438473, 0.80391763, 0.83847313, 0.84510296, 0.8469111 ,\n",
            "       0.847112  , 0.84731291, 0.847112  , 0.847112  , 0.847112  ]), 'split5_test_score': array([0.77307885, 0.80612757, 0.83365143, 0.84048217, 0.8418885 ,\n",
            "       0.84279257, 0.84299347, 0.84299347, 0.84299347, 0.84299347]), 'split6_test_score': array([0.7778001 , 0.81135108, 0.84299347, 0.84982421, 0.84902059,\n",
            "       0.84992466, 0.85012557, 0.85022602, 0.85022602, 0.85022602]), 'split7_test_score': array([0.77267705, 0.80371673, 0.83646409, 0.84138624, 0.84128579,\n",
            "       0.84229031, 0.84259166, 0.84249121, 0.84249121, 0.84249121]), 'split8_test_score': array([0.77659468, 0.80914114, 0.84118533, 0.84892014, 0.85243596,\n",
            "       0.85263687, 0.85233551, 0.85223506, 0.85223506, 0.85223506]), 'split9_test_score': array([0.77436207, 0.80761503, 0.842174  , 0.84820173, 0.85011051,\n",
            "       0.85021097, 0.84990958, 0.84970866, 0.84970866, 0.84970866]), 'mean_test_score': array([0.77447189, 0.80620373, 0.8383675 , 0.84534871, 0.8466445 ,\n",
            "       0.84700612, 0.8470463 , 0.84699607, 0.84699607, 0.84699607]), 'std_test_score': array([0.00182048, 0.00239285, 0.00281501, 0.00290264, 0.00329227,\n",
            "       0.00312692, 0.00297988, 0.00296197, 0.00296197, 0.00296197]), 'rank_test_score': array([10,  9,  8,  7,  6,  2,  1,  3,  3,  3]), 'split0_train_score': array([0.77482505, 0.80665647, 0.83917988, 0.8457426 , 0.84741677,\n",
            "       0.8479525 , 0.84788553, 0.84790785, 0.84791902, 0.84791902]), 'split1_train_score': array([0.77503711, 0.80625467, 0.83878925, 0.84559751, 0.84708193,\n",
            "       0.84745025, 0.84758418, 0.84759534, 0.84759534, 0.84759534]), 'split2_train_score': array([0.77521569, 0.80652254, 0.83925801, 0.84612208, 0.84748373,\n",
            "       0.84794134, 0.84786321, 0.84793018, 0.84793018, 0.84793018]), 'split3_train_score': array([0.77569561, 0.80691318, 0.83880041, 0.84591002, 0.84688103,\n",
            "       0.84716006, 0.84718238, 0.84716006, 0.84716006, 0.84717122]), 'split4_train_score': array([0.7745597 , 0.8065805 , 0.83841157, 0.84587826, 0.84725105,\n",
            "       0.84747427, 0.84756356, 0.84758588, 0.84759704, 0.84759704]), 'split5_train_score': array([0.77479408, 0.80639077, 0.8394607 , 0.84615728, 0.84773098,\n",
            "       0.84823322, 0.84816625, 0.84816625, 0.84814393, 0.84815509]), 'split6_train_score': array([0.77380075, 0.80573227, 0.83873524, 0.84547646, 0.84680462,\n",
            "       0.84723989, 0.84734034, 0.8473515 , 0.8473515 , 0.8473515 ]), 'split7_train_score': array([0.77508427, 0.80655818, 0.83877988, 0.84619076, 0.84803232,\n",
            "       0.84828902, 0.84823322, 0.84823322, 0.84824438, 0.84824438]), 'split8_train_score': array([0.77467131, 0.80613407, 0.83864595, 0.84511931, 0.84669301,\n",
            "       0.84694971, 0.8470948 , 0.84710596, 0.84712828, 0.84712828]), 'split9_train_score': array([0.77497517, 0.80650454, 0.83855847, 0.84517684, 0.84701838,\n",
            "       0.84728624, 0.84721928, 0.84720812, 0.84721928, 0.84721928]), 'mean_train_score': array([0.77486587, 0.80642472, 0.83886194, 0.84573711, 0.84723938,\n",
            "       0.84759765, 0.84761328, 0.84762444, 0.8476289 , 0.84763113]), 'std_train_score': array([0.00046612, 0.0003073 , 0.00031463, 0.00036924, 0.00040636,\n",
            "       0.00044713, 0.00038913, 0.00039656, 0.00039196, 0.00039212])}\n",
            "{'C': 1}\n"
          ]
        }
      ],
      "source": [
        "result_set = model2.cv_results_\n",
        "print(result_set)\n",
        "\n",
        "print(model2.best_params_)"
      ]
    },
    {
      "cell_type": "code",
      "execution_count": null,
      "metadata": {
        "id": "bipaNiWzdN6A",
        "outputId": "dfdfd36b-9399-430d-bc26-0fbad29049f5"
      },
      "outputs": [
        {
          "name": "stdout",
          "output_type": "stream",
          "text": [
            "Train accuracy: 0.8476188562876056\n",
            "Test accuracy: 0.8469038578727792\n"
          ]
        }
      ],
      "source": [
        "#Train and Test accuracy for GridSearchCV tuned with all inputs.\n",
        "#clf.fit(X_train, y_train)\n",
        "print(\"Train accuracy:\", model2.score(X_train, y_train))\n",
        "print(\"Test accuracy:\", model2.score(X_test, y_test))\n",
        "\n",
        "y_pred = model2.predict(X_test)"
      ]
    },
    {
      "cell_type": "markdown",
      "metadata": {
        "id": "jZjNuAvCdN6A"
      },
      "source": [
        "### Question 2 (3/3).\n",
        "*Choose another model and answer the following questions:*"
      ]
    },
    {
      "cell_type": "code",
      "execution_count": null,
      "metadata": {
        "id": "cXXnYKG0dN6A"
      },
      "outputs": [],
      "source": [
        "def data_prep():\n",
        "    df = pd.read_csv('d3.csv')\n",
        "\n",
        "    #df = pd.get_dummies(df)\n",
        "    df = df.drop(['WindGustDir', 'WindDir9am', 'WindDir3pm'], axis=1)\n",
        "    df = pd.get_dummies(df)\n",
        "\n",
        "    #Setting the target variable to Rain Tomorrow.\n",
        "    y = df['RainTomorrow']\n",
        "    X = df.drop(['RainTomorrow'], axis=1)\n",
        "\n",
        "\n",
        "    #y = df['RainTomorrow']\n",
        "    #X = df.drop(['RainTomorrow', 'Location', 'WindGustDir', 'WindDir9am', 'WindDir3pm'], axis=1)\n",
        "\n",
        "    # setting random state\n",
        "    rs = 10\n",
        "\n",
        "    X_mat = X.to_numpy()\n",
        "    X_train, X_test, y_train, y_test = train_test_split(X_mat, y, test_size=0.3, stratify=y, random_state=rs)\n",
        "\n",
        "    return df,X,y,X_train, X_test, y_train, y_test"
      ]
    },
    {
      "cell_type": "code",
      "execution_count": null,
      "metadata": {
        "id": "pzkgKF7-dN6B"
      },
      "outputs": [],
      "source": [
        "rs = 10\n",
        "df,X,y,X_train, X_test, y_train, y_test = data_prep()\n",
        "\n",
        "#Standardisation\n",
        "scaler = StandardScaler()\n",
        "X_train = scaler.fit_transform(X_train, y_train)\n",
        "X_test = scaler.transform(X_test)"
      ]
    },
    {
      "cell_type": "code",
      "execution_count": null,
      "metadata": {
        "id": "WjUNXUkndN6B",
        "outputId": "0a30816a-76ec-4904-80de-acefcc5f8327"
      },
      "outputs": [
        {
          "data": {
            "text/plain": [
              "GridSearchCV(cv=2, error_score='raise-deprecating',\n",
              "       estimator=LogisticRegression(C=1.0, class_weight=None, dual=False, fit_intercept=True,\n",
              "          intercept_scaling=1, max_iter=100, multi_class='warn',\n",
              "          n_jobs=None, penalty='l2', random_state=10, solver='warn',\n",
              "          tol=0.0001, verbose=0, warm_start=False),\n",
              "       fit_params=None, iid='warn', n_jobs=-1,\n",
              "       param_grid={'C': [1e-06, 1e-05, 0.0001, 0.001, 0.01, 0.1, 1, 10, 100, 1000]},\n",
              "       pre_dispatch='2*n_jobs', refit=True, return_train_score=True,\n",
              "       scoring=None, verbose=0)"
            ]
          },
          "execution_count": 111,
          "metadata": {},
          "output_type": "execute_result"
        }
      ],
      "source": [
        "#GridsearchCV\n",
        "params = {'C': [pow(10, x) for x in range(-6, 4)]}\n",
        "\n",
        "# use all cores to tune logistic regression with C parameter\n",
        "model3 = GridSearchCV(param_grid=params, estimator=LogisticRegression(random_state=rs),return_train_score=True, cv=2, n_jobs=-1)\n",
        "model3.fit(X_train, y_train)"
      ]
    },
    {
      "cell_type": "code",
      "execution_count": null,
      "metadata": {
        "id": "tFs7UTiP1kOa",
        "outputId": "5af47582-9b3f-4a25-e3cf-7ce4b1886af2"
      },
      "outputs": [
        {
          "name": "stdout",
          "output_type": "stream",
          "text": [
            "{'mean_fit_time': array([0.37644041, 0.47105515, 0.7447089 , 1.2408396 , 1.77314973,\n",
            "       1.86262178, 1.89018321, 1.89792037, 1.81149113, 1.51948071]), 'std_fit_time': array([0.00050008, 0.00306952, 0.01447785, 0.07455122, 0.05006099,\n",
            "       0.05966616, 0.03499269, 0.02143526, 0.01477826, 0.01858616]), 'mean_score_time': array([0.01500404, 0.02207291, 0.02047896, 0.01631582, 0.01581562,\n",
            "       0.01562512, 0.02069116, 0.01562548, 0.02229548, 0.01562989]), 'std_score_time': array([1.19209290e-07, 6.87837601e-05, 5.25474548e-04, 6.88195229e-04,\n",
            "       1.88231468e-04, 8.34465027e-07, 4.68707085e-03, 2.86102295e-06,\n",
            "       4.64630127e-03, 3.69548798e-06]), 'param_C': masked_array(data=[1e-06, 1e-05, 0.0001, 0.001, 0.01, 0.1, 1, 10, 100,\n",
            "                   1000],\n",
            "             mask=[False, False, False, False, False, False, False, False,\n",
            "                   False, False],\n",
            "       fill_value='?',\n",
            "            dtype=object), 'params': [{'C': 1e-06}, {'C': 1e-05}, {'C': 0.0001}, {'C': 0.001}, {'C': 0.01}, {'C': 0.1}, {'C': 1}, {'C': 10}, {'C': 100}, {'C': 1000}], 'split0_test_score': array([0.77722643, 0.79601021, 0.83084557, 0.84217611, 0.84422524,\n",
            "       0.84440605, 0.84432569, 0.84426542, 0.84428551, 0.84428551]), 'split1_test_score': array([0.77766393, 0.79807538, 0.83401639, 0.84392077, 0.8472758 ,\n",
            "       0.8474767 , 0.84749679, 0.84751688, 0.84753697, 0.84753697]), 'mean_test_score': array([0.77744518, 0.79704278, 0.83243097, 0.84304843, 0.8457505 ,\n",
            "       0.84594136, 0.84591122, 0.84589113, 0.84591122, 0.84591122]), 'std_test_score': array([0.00021875, 0.00103259, 0.00158541, 0.00087233, 0.00152528,\n",
            "       0.00153532, 0.00158555, 0.00162573, 0.00162573, 0.00162573]), 'rank_test_score': array([10,  9,  8,  7,  6,  1,  2,  5,  2,  2]), 'split0_train_score': array([0.78047653, 0.79881871, 0.83488026, 0.84472437, 0.84771778,\n",
            "       0.84836066, 0.84840084, 0.84838075, 0.84838075, 0.84838075]), 'split1_train_score': array([0.77529783, 0.79619101, 0.83251301, 0.84269844, 0.84549089,\n",
            "       0.84563152, 0.84565161, 0.84561143, 0.84559134, 0.84559134]), 'mean_train_score': array([0.77788718, 0.79750486, 0.83369664, 0.8437114 , 0.84660433,\n",
            "       0.84699609, 0.84702622, 0.84699609, 0.84698604, 0.84698604]), 'std_train_score': array([0.00258935, 0.00131385, 0.00118363, 0.00101297, 0.00111344,\n",
            "       0.00136457, 0.00137461, 0.00138466, 0.0013947 , 0.0013947 ])}\n",
            "{'C': 0.1}\n"
          ]
        }
      ],
      "source": [
        "result_set = model3.cv_results_\n",
        "print(result_set)\n",
        "\n",
        "print(model3.best_params_)"
      ]
    },
    {
      "cell_type": "markdown",
      "metadata": {
        "id": "3cnSV14XdN6B"
      },
      "source": [
        "**2a. Explain why you chose that model.**\n",
        "\n",
        "*This model has been chosen as it expands upon the previous two (default and default with GridSearchCV tuning) models to further improve its performance. It utilises some variable reduction to improve the timeliness of running the model, while also increasing the accuracy slightly.*\n",
        "\n",
        "**2b. Name the regression function used.**\n",
        "\n",
        "*This model uses the logistical regression function.*\n",
        "\n",
        "**2c. Did you apply standardization of variables? Why would you normalise\n",
        "the variables for regression mining?**\n",
        "\n",
        "*Standardization has been applied to the variables. This was essential as there was different scales and units of measurements being compared, such as windspeed kilometres and rainfall millimetres. The process of standardization has put all variables onto the same scale, allowing for meaningful insights to be made in regard to the relationship of the variable and the target, and minimises the risk of misleading results.*\n",
        "\n",
        "**2d. Report the variables included in the regression model.**\n",
        "\n",
        "*This model includes a slightly reduced number of variables when compared to the initial models. The variables of WindGustDir, WindDir9am and WindDir3pm have been removed for two reasons. The first is that these variables added a significant amount of uncessary bulk to the dataset, as they had to be separated into individual fields for each of the types using the Pandas Get Dummies function. Secondly, they were removed as these are all relative factors depending on the location they were recorded at, and don't necessarily assist in predicting whether it will rain or not in any given location. Apart from these exceptions, all other variables have been included.*\n",
        "\n",
        "**2e. Report the top-5 important variables (in the order) in the model.**"
      ]
    },
    {
      "cell_type": "code",
      "execution_count": null,
      "metadata": {
        "id": "_SxIoyuadN6C",
        "outputId": "782757e6-c6bd-4b07-be82-96153258bd7f"
      },
      "outputs": [
        {
          "name": "stdout",
          "output_type": "stream",
          "text": [
            "Pressure3pm : -1.3004339841637484\n",
            "Humidity3pm : 1.1988579824840062\n",
            "Pressure9am : 0.8609275954545342\n",
            "WindGustSpeed : 0.752234396752489\n",
            "MaxTemp : -0.450477973974446\n"
          ]
        }
      ],
      "source": [
        "coef = model3.best_estimator_.coef_[0]\n",
        "feature_names = X.columns\n",
        "\n",
        "indices = np.argsort(np.absolute(coef))\n",
        "indices = np.flip(indices, axis=0)\n",
        "\n",
        "indices = indices[:5]\n",
        "\n",
        "for i in indices:\n",
        "    print(feature_names[i], ':', coef[i])"
      ]
    },
    {
      "cell_type": "markdown",
      "metadata": {
        "id": "lQQfjs31dN6C"
      },
      "source": [
        "**2f. What is the classification accuracy on training and test datasets?**"
      ]
    },
    {
      "cell_type": "code",
      "execution_count": null,
      "metadata": {
        "id": "9UXvZPwEdN6C",
        "outputId": "a2b922ab-900f-4520-9ae0-9c76584b7f8d"
      },
      "outputs": [
        {
          "name": "stdout",
          "output_type": "stream",
          "text": [
            "Train accuracy: 0.8463130191958053\n",
            "Test accuracy: 0.8474429287957624\n",
            "              precision    recall  f1-score   support\n",
            "\n",
            "           0       0.87      0.95      0.91     33101\n",
            "           1       0.74      0.50      0.59      9565\n",
            "\n",
            "   micro avg       0.85      0.85      0.85     42666\n",
            "   macro avg       0.80      0.72      0.75     42666\n",
            "weighted avg       0.84      0.85      0.84     42666\n",
            "\n"
          ]
        }
      ],
      "source": [
        "#clf.fit(X_train, y_train)\n",
        "\n",
        "print(\"Train accuracy:\", model3.score(X_train, y_train))\n",
        "print(\"Test accuracy:\", model3.score(X_test, y_test))\n",
        "\n",
        "#Classification report on test data\n",
        "y_pred = model3.predict(X_test)\n",
        "print(classification_report(y_test, y_pred))"
      ]
    },
    {
      "cell_type": "markdown",
      "metadata": {
        "id": "oImhcLpNdN6C"
      },
      "source": [
        "**2g. Report any sign of overfitting in this model.**\n",
        "\n",
        "*The test accuracy very slightly outperforms the training accuracy, indicating that overfitting is unlikely. Due to the small variance, it is likely that the model generalises well.*"
      ]
    },
    {
      "cell_type": "markdown",
      "metadata": {
        "id": "OcRbHkRPdN6C"
      },
      "source": [
        "### Question 3.\n",
        "**Build another regression model on the reduced variables set. Perform\n",
        "dimensionality reduction with recursive feature elimination. Tune the model with GridSearchCV to find the best parameter setting.**"
      ]
    },
    {
      "cell_type": "code",
      "execution_count": null,
      "metadata": {
        "id": "RcbK1W1DdN6D",
        "outputId": "7903d976-b2b5-4ecc-faa3-adb9ff734b4b"
      },
      "outputs": [
        {
          "name": "stdout",
          "output_type": "stream",
          "text": [
            "Original feature set 67\n",
            "Number of features after elimination 47\n"
          ]
        }
      ],
      "source": [
        "from sklearn.feature_selection import RFECV\n",
        "\n",
        "rfe = RFECV(estimator = LogisticRegression(random_state=rs), cv=10)\n",
        "rfe.fit(X_train, y_train) # run the RFECV\n",
        "\n",
        "print(\"Original feature set\", X_train.shape[1])\n",
        "print(\"Number of features after elimination\", rfe.n_features_)"
      ]
    },
    {
      "cell_type": "code",
      "execution_count": null,
      "metadata": {
        "id": "9crhJmAxdN6D"
      },
      "outputs": [],
      "source": [
        "X_train_sel = rfe.transform(X_train)\n",
        "X_test_sel = rfe.transform(X_test)"
      ]
    },
    {
      "cell_type": "code",
      "execution_count": null,
      "metadata": {
        "id": "NSOyhs45dN6D",
        "outputId": "1bf37e6d-a275-4fc2-8eac-0b4c4a386fb5"
      },
      "outputs": [
        {
          "data": {
            "text/plain": [
              "GridSearchCV(cv=10, error_score='raise-deprecating',\n",
              "       estimator=LogisticRegression(C=1.0, class_weight=None, dual=False, fit_intercept=True,\n",
              "          intercept_scaling=1, max_iter=100, multi_class='warn',\n",
              "          n_jobs=None, penalty='l2', random_state=10, solver='warn',\n",
              "          tol=0.0001, verbose=0, warm_start=False),\n",
              "       fit_params=None, iid='warn', n_jobs=-1,\n",
              "       param_grid={'C': [1e-06, 1e-05, 0.0001, 0.001, 0.01, 0.1, 1, 10, 100, 1000]},\n",
              "       pre_dispatch='2*n_jobs', refit=True, return_train_score='warn',\n",
              "       scoring=None, verbose=0)"
            ]
          },
          "execution_count": 70,
          "metadata": {},
          "output_type": "execute_result"
        }
      ],
      "source": [
        "#GridsearchCV (maybe use the one from above)\n",
        "params = {'C': [pow(10, x) for x in range(-6, 4)]}\n",
        "\n",
        "rfe_cv = GridSearchCV(param_grid=params, estimator=LogisticRegression(random_state=rs), cv=10, n_jobs=-1)\n",
        "rfe_cv.fit(X_train_sel, y_train)"
      ]
    },
    {
      "cell_type": "markdown",
      "metadata": {
        "id": "vKHIjrzHdN6D"
      },
      "source": [
        "**3a. Was dimensionality reduction useful to identify a good feature set for\n",
        "building the accurate model?**\n",
        "\n",
        "*There was very similar performance between the pre- and post-feature elimination performance on the training and testing accuracy, with training performance improving slightly and testing performance decreasing slightly.\n",
        "\n",
        "However, the refinement of the features provides valuable insight into the likely indicators of rainfall which were previously hidden.\n",
        "*\n",
        "\n",
        "**3b. What is the classification accuracy on training and test datasets?**"
      ]
    },
    {
      "cell_type": "code",
      "execution_count": null,
      "metadata": {
        "id": "stUdIWumdN6D",
        "outputId": "01cb50dc-1db4-4f7f-ea05-a9790fd3e73e"
      },
      "outputs": [
        {
          "name": "stdout",
          "output_type": "stream",
          "text": [
            "Train accuracy: 0.8465641417134592\n",
            "Test accuracy: 0.8471147986687292\n",
            "              precision    recall  f1-score   support\n",
            "\n",
            "           0       0.87      0.95      0.91     33101\n",
            "           1       0.74      0.49      0.59      9565\n",
            "\n",
            "   micro avg       0.85      0.85      0.85     42666\n",
            "   macro avg       0.80      0.72      0.75     42666\n",
            "weighted avg       0.84      0.85      0.84     42666\n",
            "\n"
          ]
        }
      ],
      "source": [
        "print(\"Train accuracy:\", rfe_cv.score(X_train_sel, y_train))\n",
        "print(\"Test accuracy:\", rfe_cv.score(X_test_sel, y_test))\n",
        "\n",
        "y_pred = rfe_cv.predict(X_test_sel)\n",
        "print(classification_report(y_test, y_pred))"
      ]
    },
    {
      "cell_type": "markdown",
      "metadata": {
        "id": "ERWsy8XCdN6D"
      },
      "source": [
        "**3c. Report any sign of overfitting.**\n",
        "\n",
        "\n",
        "*Similarly to the previous model, the test accuracy again very slightly outperforms the training accuracy, indicating that overfitting is unlikely.*\n",
        "\n",
        "**3d. Report the top-3 important variables (in the order) in the model.**"
      ]
    },
    {
      "cell_type": "code",
      "execution_count": null,
      "metadata": {
        "id": "h9vLqpIldN6E",
        "outputId": "d54e4246-f5b1-496f-f721-43643c9a971d"
      },
      "outputs": [
        {
          "name": "stdout",
          "output_type": "stream",
          "text": [
            "Humidity9am : 1.1475774475136673\n",
            "Pressure9am : -1.0741298173032268\n",
            "Sunshine : 0.7239309307750793\n"
          ]
        }
      ],
      "source": [
        "coef = rfe_cv.best_estimator_.coef_[0]\n",
        "feature_names = X.columns\n",
        "\n",
        "indices = np.argsort(np.absolute(coef))\n",
        "indices = np.flip(indices, axis=0)\n",
        "\n",
        "indices = indices[:3]\n",
        "\n",
        "for i in indices:\n",
        "    print(feature_names[i], ':', coef[i])"
      ]
    },
    {
      "cell_type": "markdown",
      "metadata": {
        "id": "ClvfgIl6dN6E"
      },
      "source": [
        "### Question 4.\n",
        "**Produce the ROC curve for all different regression models. Using the best\n",
        "regression model, can you provide general characteristics that infer the model to predict rain tomorrow?**\n",
        "\n",
        "*There are only small variations between each of the ROC curves produced. Unsurprisingly, this means that each of the 4 models have a similar ROC index of around 0.87.\n",
        "\n",
        "This indicates that the model is quite effective at accurately identifying negative classes as negatives and positive classes as positives with regard to our target variable of RainTomorrow.*"
      ]
    },
    {
      "cell_type": "code",
      "execution_count": null,
      "metadata": {
        "id": "B9Cjb3bV1kOc",
        "outputId": "defcf24e-7775-4a6d-ea38-475566adce52"
      },
      "outputs": [
        {
          "name": "stdout",
          "output_type": "stream",
          "text": [
            "ROC index on test for `default model, tuned': 0.8721511170179729\n"
          ]
        },
        {
          "data": {
            "text/plain": [
              "[<matplotlib.lines.Line2D at 0x1dc8188bc88>]"
            ]
          },
          "execution_count": 96,
          "metadata": {},
          "output_type": "execute_result"
        },
        {
          "data": {
            "image/png": "[encoded data removed]",
            "text/plain": [
              "<Figure size 432x288 with 1 Axes>"
            ]
          },
          "metadata": {
            "needs_background": "light"
          },
          "output_type": "display_data"
        }
      ],
      "source": [
        "#1\n",
        "from sklearn.metrics import roc_auc_score\n",
        "y_pred_proba_def = model2.predict_proba(X_test)\n",
        "roc_index_def = roc_auc_score(y_test, y_pred_proba_def[:, 1])\n",
        "print(\"ROC index on test for `default model, tuned':\", roc_index_def)\n",
        "\n",
        "from sklearn.metrics import roc_curve\n",
        "fpr_def, tpr_def, thresholds_def = roc_curve(y_test, y_pred_proba_def[:,1])\n",
        "\n",
        "import matplotlib.pyplot as plt\n",
        "plt.plot(fpr_def, tpr_def, label='ROC Curve for `default` {:.3f}'.format(roc_index_def), color='orange', lw=0.5)"
      ]
    },
    {
      "cell_type": "code",
      "execution_count": null,
      "metadata": {
        "id": "xEExyHbO1kOc",
        "outputId": "b64e01c7-b0d8-4d89-9a8c-dbca1a051c38"
      },
      "outputs": [
        {
          "name": "stdout",
          "output_type": "stream",
          "text": [
            "ROC index on test for `default model, tuned': 0.8721511170179729\n"
          ]
        },
        {
          "data": {
            "text/plain": [
              "[<matplotlib.lines.Line2D at 0x1dc8171cb00>]"
            ]
          },
          "execution_count": 108,
          "metadata": {},
          "output_type": "execute_result"
        },
        {
          "data": {
            "image/png": "[encoded data removed]",
            "text/plain": [
              "<Figure size 432x288 with 1 Axes>"
            ]
          },
          "metadata": {
            "needs_background": "light"
          },
          "output_type": "display_data"
        }
      ],
      "source": [
        "#2\n",
        "from sklearn.metrics import roc_auc_score\n",
        "y_pred_proba_def_cv = model2.predict_proba(X_test)\n",
        "roc_index_def_cv = roc_auc_score(y_test, y_pred_proba_def_cv[:, 1])\n",
        "print(\"ROC index on test for `default model, tuned':\", roc_index_def_cv)\n",
        "\n",
        "from sklearn.metrics import roc_curve\n",
        "fpr_def_cv, tpr_def_cv, thresholds_def_cv = roc_curve(y_test, y_pred_proba_def_cv[:,1])\n",
        "\n",
        "import matplotlib.pyplot as plt\n",
        "plt.plot(fpr_def_cv, tpr_def_cv, label='ROC Curve for `def_cv` {:.3f}'.format(roc_index_def_cv), color='red', lw=0.5)"
      ]
    },
    {
      "cell_type": "code",
      "execution_count": null,
      "metadata": {
        "id": "Pjm25yoJ1kOc",
        "outputId": "dcd1101e-e96c-4c39-cd4b-1da72fc82356"
      },
      "outputs": [
        {
          "name": "stdout",
          "output_type": "stream",
          "text": [
            "ROC index on test for `custom variable model, tuned': 0.8699664081544339\n"
          ]
        },
        {
          "data": {
            "text/plain": [
              "[<matplotlib.lines.Line2D at 0x1dc829a99b0>]"
            ]
          },
          "execution_count": 116,
          "metadata": {},
          "output_type": "execute_result"
        },
        {
          "data": {
            "image/png": "[encoded data removed]",
            "text/plain": [
              "<Figure size 432x288 with 1 Axes>"
            ]
          },
          "metadata": {
            "needs_background": "light"
          },
          "output_type": "display_data"
        }
      ],
      "source": [
        "#3\n",
        "from sklearn.metrics import roc_auc_score\n",
        "y_pred_proba_cus_model = model3.predict_proba(X_test)\n",
        "roc_index_cus_model = roc_auc_score(y_test, y_pred_proba_cus_model[:, 1])\n",
        "print(\"ROC index on test for `custom variable model, tuned':\", roc_index_cus_model)\n",
        "\n",
        "from sklearn.metrics import roc_curve\n",
        "fpr_cus_model, tpr_cus_model, thresholds_cus_model = roc_curve(y_test, y_pred_proba_cus_model[:,1])\n",
        "\n",
        "import matplotlib.pyplot as plt\n",
        "plt.plot(fpr_cus_model, tpr_cus_model, label='ROC Curve for `cus_model` {:.3f}'.format(roc_index_cus_model), color='green', lw=0.5)"
      ]
    },
    {
      "cell_type": "code",
      "execution_count": null,
      "metadata": {
        "id": "o0zynYyl1kOg",
        "outputId": "8b79fa9e-d2c5-4bca-a1b7-b6d5b96bd490"
      },
      "outputs": [
        {
          "name": "stdout",
          "output_type": "stream",
          "text": [
            "ROC index on test for 'custom variable model, feature reduction, tuned': 0.8694927228775153\n"
          ]
        },
        {
          "data": {
            "text/plain": [
              "[<matplotlib.lines.Line2D at 0x1dc8181c240>]"
            ]
          },
          "execution_count": 87,
          "metadata": {},
          "output_type": "execute_result"
        },
        {
          "data": {
            "image/png": "[encoded data removed]",
            "text/plain": [
              "<Figure size 432x288 with 1 Axes>"
            ]
          },
          "metadata": {
            "needs_background": "light"
          },
          "output_type": "display_data"
        }
      ],
      "source": [
        "#4\n",
        "from sklearn.metrics import roc_auc_score\n",
        "y_pred_proba_rfe_cv = rfe_cv.predict_proba(X_test_sel)\n",
        "roc_index_rfe_cv = roc_auc_score(y_test, y_pred_proba_rfe_cv[:, 1])\n",
        "print(\"ROC index on test for 'custom variable model, feature reduction, tuned':\", roc_index_rfe_cv)\n",
        "\n",
        "from sklearn.metrics import roc_curve\n",
        "fpr_rfe_cv, tpr_rfe_cv, thresholds_rfe_cv = roc_curve(y_test, y_pred_proba_rfe_cv[:,1])\n",
        "\n",
        "import matplotlib.pyplot as plt\n",
        "plt.plot(fpr_rfe_cv, tpr_rfe_cv, label='ROC Curve for `rfe_cv` {:.3f}'.format(roc_index_rfe_cv), color='blue', lw=0.5)"
      ]
    }
  ],
  "metadata": {
    "colab": {
      "provenance": []
    },
    "kernelspec": {
      "display_name": "Python 3",
      "language": "python",
      "name": "python3"
    },
    "language_info": {
      "codemirror_mode": {
        "name": "ipython",
        "version": 3
      },
      "file_extension": ".py",
      "mimetype": "text/x-python",
      "name": "python",
      "nbconvert_exporter": "python",
      "pygments_lexer": "ipython3",
      "version": "3.7.3"
    }
  },
  "nbformat": 4,
  "nbformat_minor": 0
}